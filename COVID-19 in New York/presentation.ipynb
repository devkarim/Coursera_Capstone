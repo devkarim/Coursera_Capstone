{
 "cells": [
  {
   "cell_type": "markdown",
   "metadata": {},
   "source": [
    "# Studying COVID-19 Cases in New York\n",
    "\n",
    "### 1. Introduction"
   ]
  },
  {
   "cell_type": "markdown",
   "metadata": {},
   "source": [
    "Day by day COVID-19 cases are increasing and everyone is concern about going out. Nobody knows if they are virus carriers as sometimes they have a strong immunity system that is enough to keep that virus away or at least they don't feel sick. Are poplular shops the reason? Do they have to be locked until this pandemic is gone? From my own prespective, popular shops often have a high chance to have more cases than unpopular ones. The most common shops that most people visit are the ones which should be closed because most likely the most cases came from similar shops.\n",
    "\n",
    "The audience I'm targeting can be the shop owners or anyone interested in knowing what shops have a high chance to be closed."
   ]
  },
  {
   "cell_type": "markdown",
   "metadata": {},
   "source": [
    "### 2. Methodology\n",
    "\n",
    "1. Data analysis.\n",
    "2. Foursquare.\n",
    "3. Clustering.\n",
    "4. Folium."
   ]
  },
  {
   "cell_type": "markdown",
   "metadata": {},
   "source": [
    "### 3. Results\n",
    "\n",
    "![venues](https://imgur.com/rELQSAD.png)\n",
    "![map](https://imgur.com/l15bf62.png)\n",
    "![map2](https://imgur.com/gtjaiyr.png)"
   ]
  },
  {
   "cell_type": "markdown",
   "metadata": {},
   "source": [
    "### 4. Conclusion"
   ]
  },
  {
   "cell_type": "markdown",
   "metadata": {},
   "source": [
    "The main goal of this project was to target the popular / most common venues that have most likely high impact on COVID-19 cases thus we first cleaned our dataset to have everything ready for analysis then we managed to target Queens borough due to being afraid to risk Foursquare rate limits. Next we set up Foursquare to help us gather the venues by exploring around the coordiantes of each neighborhood resulting in extracting a total of 10112 venues. After that, we grouped the dataset by the frequency of each venue category so we recognize what the most common venues are. Finally we used k-Means to cluster the zones that have high demand thus we know where exactly COVID-19 are increasing."
   ]
  }
 ],
 "metadata": {
  "kernelspec": {
   "display_name": "Python 3",
   "language": "python",
   "name": "python3"
  },
  "language_info": {
   "codemirror_mode": {
    "name": "ipython",
    "version": 3
   },
   "file_extension": ".py",
   "mimetype": "text/x-python",
   "name": "python",
   "nbconvert_exporter": "python",
   "pygments_lexer": "ipython3",
   "version": "3.7.7"
  }
 },
 "nbformat": 4,
 "nbformat_minor": 4
}

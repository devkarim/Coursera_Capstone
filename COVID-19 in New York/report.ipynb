{
 "cells": [
  {
   "cell_type": "markdown",
   "metadata": {},
   "source": [
    "# Studying COVID-19 Cases in New York\n",
    "### 1. Introduction\n",
    "Day by day COVID-19 cases are increasing and everyone is concern about going out. Nobody knows if they are virus carriers as sometimes they have a strong immunity system that is enough to keep that virus away or at least they don't feel sick. Are poplular shops the reason? Do they have to be locked until this pandemic is gone? From my own prespective, popular shops often have a high chance to have more cases than unpopular ones. The most common shops that most people visit are the ones which should be closed because most likely the most cases came from similar shops.\n",
    "\n",
    "The audience I'm targeting can be the shop owners or anyone interested in knowing what shops have a high chance to be closed.\n",
    "\n",
    "### Solution\n",
    "\n",
    "What is the solution for this? Simply by checking what the popular shops are near New York and predict what shops have a high chance to be locked. One way to do this is by clustering the venues that people do see are the most common for them.\n",
    "\n",
    "Fetching the popular venues will be from Foursquare API.\n",
    "\n",
    "### 2. Methodology\n",
    "1. Data analysis.\n",
    "2. Foursquare.\n",
    "3. Clustering.\n",
    "4. Folium.\n",
    "\n",
    "### 3. Data\n",
    "In addition to using Foursquare API to get the nearby venues in New York, I could use the dataset we used in the previous labs to get the location coordinates. For more information about this data, check the description below!\n",
    "\n",
    "Each row in the dataset will contain of a borough, neighborhood, latitude and longitude. Then by using the Foursquare API, I'll be directing the nearby venues via those coordiantes of each neighborhood.\n",
    "\n",
    "![dataset](https://imgur.com/QPR6oYd.png)\n",
    "![venues](https://imgur.com/rELQSAD.png)\n",
    "\n",
    "### 4. Results\n",
    "\n",
    "![map](https://imgur.com/l15bf62.png)\n",
    "![map2](https://imgur.com/gtjaiyr.png)\n",
    "\n",
    "### 5. Discussion\n",
    "\n",
    "Through our analysis we clearly see Cluster 1 and Cluster 3 have high impact of the most common venues in New York thus they have a high chance of getting closed (unless they are already closed) to prevent increases in COVID-19 cases. Though those clusters are considered good zones, they will result in a crowd which helps in spreading COVID-19 virus exponentially thus results an increase in COVID-19 cases as being said.\n",
    "\n",
    "I recommend not going out to these venues or any crowd zone when not required to decrease COVID-19 cases as much as possible. Stay safe!\n",
    "\n",
    "### 6. Summary\n",
    "\n",
    "The main goal of this project was to target the popular / most common venues that have most likely high impact on COVID-19 cases thus we first cleaned our dataset to have everything ready for analysis then we managed to target Queens borough due to being afraid to risk Foursquare rate limits. Next we set up Foursquare to help us gather the venues by exploring around the coordiantes of each neighborhood resulting in extracting a total of 10112 venues. After that, we grouped the dataset by the frequency of each venue category so we recognize what the most common venues are. Finally we used k-Means to cluster the zones that have high demand thus we know where exactly COVID-19 are increasing."
   ]
  },
  {
   "cell_type": "code",
   "execution_count": null,
   "metadata": {},
   "outputs": [],
   "source": []
  }
 ],
 "metadata": {
  "kernelspec": {
   "display_name": "Python 3",
   "language": "python",
   "name": "python3"
  },
  "language_info": {
   "codemirror_mode": {
    "name": "ipython",
    "version": 3
   },
   "file_extension": ".py",
   "mimetype": "text/x-python",
   "name": "python",
   "nbconvert_exporter": "python",
   "pygments_lexer": "ipython3",
   "version": "3.7.7"
  }
 },
 "nbformat": 4,
 "nbformat_minor": 4
}
